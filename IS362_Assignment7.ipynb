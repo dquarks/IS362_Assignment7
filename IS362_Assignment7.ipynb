{
 "cells": [
  {
   "cell_type": "markdown",
   "metadata": {},
   "source": [
    "## Week 7: Normalizing Datasets with Pandas"
   ]
  },
  {
   "cell_type": "code",
   "execution_count": 1,
   "metadata": {},
   "outputs": [],
   "source": [
    "import pandas as pd"
   ]
  },
  {
   "cell_type": "markdown",
   "metadata": {},
   "source": [
    "_First, we will import our dataset from our rates.csv file._"
   ]
  },
  {
   "cell_type": "code",
   "execution_count": 2,
   "metadata": {},
   "outputs": [],
   "source": [
    "df = pd.read_csv('rates.csv')"
   ]
  },
  {
   "cell_type": "code",
   "execution_count": 3,
   "metadata": {},
   "outputs": [],
   "source": [
    "df_regular = df"
   ]
  },
  {
   "cell_type": "code",
   "execution_count": 4,
   "metadata": {},
   "outputs": [
    {
     "data": {
      "text/html": [
       "<div>\n",
       "<style scoped>\n",
       "    .dataframe tbody tr th:only-of-type {\n",
       "        vertical-align: middle;\n",
       "    }\n",
       "\n",
       "    .dataframe tbody tr th {\n",
       "        vertical-align: top;\n",
       "    }\n",
       "\n",
       "    .dataframe thead th {\n",
       "        text-align: right;\n",
       "    }\n",
       "</style>\n",
       "<table border=\"1\" class=\"dataframe\">\n",
       "  <thead>\n",
       "    <tr style=\"text-align: right;\">\n",
       "      <th></th>\n",
       "      <th>The Invisible Man</th>\n",
       "      <th>Yellow Rose</th>\n",
       "      <th>Bloodshot</th>\n",
       "      <th>Unhinged</th>\n",
       "      <th>Ava</th>\n",
       "      <th>The Devil All the Time</th>\n",
       "    </tr>\n",
       "  </thead>\n",
       "  <tbody>\n",
       "    <tr>\n",
       "      <th>Lesley</th>\n",
       "      <td>6</td>\n",
       "      <td>5</td>\n",
       "      <td>2</td>\n",
       "      <td>5</td>\n",
       "      <td>2</td>\n",
       "      <td>6</td>\n",
       "    </tr>\n",
       "    <tr>\n",
       "      <th>Henry</th>\n",
       "      <td>2</td>\n",
       "      <td>1</td>\n",
       "      <td>1</td>\n",
       "      <td>2</td>\n",
       "      <td>4</td>\n",
       "      <td>3</td>\n",
       "    </tr>\n",
       "    <tr>\n",
       "      <th>Maria</th>\n",
       "      <td>10</td>\n",
       "      <td>3</td>\n",
       "      <td>1</td>\n",
       "      <td>0</td>\n",
       "      <td>9</td>\n",
       "      <td>9</td>\n",
       "    </tr>\n",
       "    <tr>\n",
       "      <th>Anthony</th>\n",
       "      <td>3</td>\n",
       "      <td>9</td>\n",
       "      <td>7</td>\n",
       "      <td>1</td>\n",
       "      <td>9</td>\n",
       "      <td>0</td>\n",
       "    </tr>\n",
       "    <tr>\n",
       "      <th>Kim</th>\n",
       "      <td>7</td>\n",
       "      <td>2</td>\n",
       "      <td>3</td>\n",
       "      <td>3</td>\n",
       "      <td>3</td>\n",
       "      <td>1</td>\n",
       "    </tr>\n",
       "  </tbody>\n",
       "</table>\n",
       "</div>"
      ],
      "text/plain": [
       "         The Invisible Man  Yellow Rose  Bloodshot  Unhinged  Ava  \\\n",
       "Lesley                   6            5          2         5    2   \n",
       "Henry                    2            1          1         2    4   \n",
       "Maria                   10            3          1         0    9   \n",
       "Anthony                  3            9          7         1    9   \n",
       "Kim                      7            2          3         3    3   \n",
       "\n",
       "         The Devil All the Time  \n",
       "Lesley                        6  \n",
       "Henry                         3  \n",
       "Maria                         9  \n",
       "Anthony                       0  \n",
       "Kim                           1  "
      ]
     },
     "execution_count": 4,
     "metadata": {},
     "output_type": "execute_result"
    }
   ],
   "source": [
    "df_regular"
   ]
  },
  {
   "cell_type": "markdown",
   "metadata": {},
   "source": [
    "_In our unmodified dataset, we will add a column and row for averages (for users and movies, respectively)._"
   ]
  },
  {
   "cell_type": "code",
   "execution_count": 5,
   "metadata": {},
   "outputs": [],
   "source": [
    "df_regular.loc['AVG (B)'] = df_regular[['The Invisible Man', 'Yellow Rose', 'Bloodshot', 'Unhinged', 'Ava', 'The Devil All the Time']].mean()"
   ]
  },
  {
   "cell_type": "code",
   "execution_count": 6,
   "metadata": {},
   "outputs": [],
   "source": [
    "df_regular['AVG (A)'] = df_regular.mean(axis=1)"
   ]
  },
  {
   "cell_type": "code",
   "execution_count": 7,
   "metadata": {},
   "outputs": [
    {
     "data": {
      "text/html": [
       "<div>\n",
       "<style scoped>\n",
       "    .dataframe tbody tr th:only-of-type {\n",
       "        vertical-align: middle;\n",
       "    }\n",
       "\n",
       "    .dataframe tbody tr th {\n",
       "        vertical-align: top;\n",
       "    }\n",
       "\n",
       "    .dataframe thead th {\n",
       "        text-align: right;\n",
       "    }\n",
       "</style>\n",
       "<table border=\"1\" class=\"dataframe\">\n",
       "  <thead>\n",
       "    <tr style=\"text-align: right;\">\n",
       "      <th></th>\n",
       "      <th>The Invisible Man</th>\n",
       "      <th>Yellow Rose</th>\n",
       "      <th>Bloodshot</th>\n",
       "      <th>Unhinged</th>\n",
       "      <th>Ava</th>\n",
       "      <th>The Devil All the Time</th>\n",
       "      <th>AVG (A)</th>\n",
       "    </tr>\n",
       "  </thead>\n",
       "  <tbody>\n",
       "    <tr>\n",
       "      <th>Lesley</th>\n",
       "      <td>6.0</td>\n",
       "      <td>5.0</td>\n",
       "      <td>2.0</td>\n",
       "      <td>5.0</td>\n",
       "      <td>2.0</td>\n",
       "      <td>6.0</td>\n",
       "      <td>4.333333</td>\n",
       "    </tr>\n",
       "    <tr>\n",
       "      <th>Henry</th>\n",
       "      <td>2.0</td>\n",
       "      <td>1.0</td>\n",
       "      <td>1.0</td>\n",
       "      <td>2.0</td>\n",
       "      <td>4.0</td>\n",
       "      <td>3.0</td>\n",
       "      <td>2.166667</td>\n",
       "    </tr>\n",
       "    <tr>\n",
       "      <th>Maria</th>\n",
       "      <td>10.0</td>\n",
       "      <td>3.0</td>\n",
       "      <td>1.0</td>\n",
       "      <td>0.0</td>\n",
       "      <td>9.0</td>\n",
       "      <td>9.0</td>\n",
       "      <td>5.333333</td>\n",
       "    </tr>\n",
       "    <tr>\n",
       "      <th>Anthony</th>\n",
       "      <td>3.0</td>\n",
       "      <td>9.0</td>\n",
       "      <td>7.0</td>\n",
       "      <td>1.0</td>\n",
       "      <td>9.0</td>\n",
       "      <td>0.0</td>\n",
       "      <td>4.833333</td>\n",
       "    </tr>\n",
       "    <tr>\n",
       "      <th>Kim</th>\n",
       "      <td>7.0</td>\n",
       "      <td>2.0</td>\n",
       "      <td>3.0</td>\n",
       "      <td>3.0</td>\n",
       "      <td>3.0</td>\n",
       "      <td>1.0</td>\n",
       "      <td>3.166667</td>\n",
       "    </tr>\n",
       "    <tr>\n",
       "      <th>AVG (B)</th>\n",
       "      <td>5.6</td>\n",
       "      <td>4.0</td>\n",
       "      <td>2.8</td>\n",
       "      <td>2.2</td>\n",
       "      <td>5.4</td>\n",
       "      <td>3.8</td>\n",
       "      <td>3.966667</td>\n",
       "    </tr>\n",
       "  </tbody>\n",
       "</table>\n",
       "</div>"
      ],
      "text/plain": [
       "         The Invisible Man  Yellow Rose  Bloodshot  Unhinged  Ava  \\\n",
       "Lesley                 6.0          5.0        2.0       5.0  2.0   \n",
       "Henry                  2.0          1.0        1.0       2.0  4.0   \n",
       "Maria                 10.0          3.0        1.0       0.0  9.0   \n",
       "Anthony                3.0          9.0        7.0       1.0  9.0   \n",
       "Kim                    7.0          2.0        3.0       3.0  3.0   \n",
       "AVG (B)                5.6          4.0        2.8       2.2  5.4   \n",
       "\n",
       "         The Devil All the Time   AVG (A)  \n",
       "Lesley                      6.0  4.333333  \n",
       "Henry                       3.0  2.166667  \n",
       "Maria                       9.0  5.333333  \n",
       "Anthony                     0.0  4.833333  \n",
       "Kim                         1.0  3.166667  \n",
       "AVG (B)                     3.8  3.966667  "
      ]
     },
     "execution_count": 7,
     "metadata": {},
     "output_type": "execute_result"
    }
   ],
   "source": [
    "df_regular"
   ]
  },
  {
   "cell_type": "markdown",
   "metadata": {},
   "source": [
    "_Next, we will normalize our dataset using built in Pandas tools._"
   ]
  },
  {
   "cell_type": "code",
   "execution_count": 16,
   "metadata": {},
   "outputs": [],
   "source": [
    "df_normalized = (df - df.mean()) / (df.max() - df.min())"
   ]
  },
  {
   "cell_type": "code",
   "execution_count": 18,
   "metadata": {},
   "outputs": [],
   "source": [
    "df_normalized.loc['AVG (B)'] = df_normalized[['The Invisible Man', 'Yellow Rose', 'Bloodshot', 'Unhinged', 'Ava', 'The Devil All the Time']].mean()"
   ]
  },
  {
   "cell_type": "code",
   "execution_count": 20,
   "metadata": {},
   "outputs": [],
   "source": [
    "df_normalized['AVG (A)'] = df_normalized.mean(axis=1)"
   ]
  },
  {
   "cell_type": "code",
   "execution_count": 21,
   "metadata": {},
   "outputs": [
    {
     "data": {
      "text/html": [
       "<div>\n",
       "<style scoped>\n",
       "    .dataframe tbody tr th:only-of-type {\n",
       "        vertical-align: middle;\n",
       "    }\n",
       "\n",
       "    .dataframe tbody tr th {\n",
       "        vertical-align: top;\n",
       "    }\n",
       "\n",
       "    .dataframe thead th {\n",
       "        text-align: right;\n",
       "    }\n",
       "</style>\n",
       "<table border=\"1\" class=\"dataframe\">\n",
       "  <thead>\n",
       "    <tr style=\"text-align: right;\">\n",
       "      <th></th>\n",
       "      <th>The Invisible Man</th>\n",
       "      <th>Yellow Rose</th>\n",
       "      <th>Bloodshot</th>\n",
       "      <th>Unhinged</th>\n",
       "      <th>Ava</th>\n",
       "      <th>The Devil All the Time</th>\n",
       "      <th>AVG (A)</th>\n",
       "    </tr>\n",
       "  </thead>\n",
       "  <tbody>\n",
       "    <tr>\n",
       "      <th>Lesley</th>\n",
       "      <td>5.000000e-02</td>\n",
       "      <td>0.125</td>\n",
       "      <td>-1.333333e-01</td>\n",
       "      <td>5.600000e-01</td>\n",
       "      <td>-4.857143e-01</td>\n",
       "      <td>2.444444e-01</td>\n",
       "      <td>6.802661e-02</td>\n",
       "    </tr>\n",
       "    <tr>\n",
       "      <th>Henry</th>\n",
       "      <td>-4.500000e-01</td>\n",
       "      <td>-0.375</td>\n",
       "      <td>-3.000000e-01</td>\n",
       "      <td>-4.000000e-02</td>\n",
       "      <td>-2.000000e-01</td>\n",
       "      <td>-8.888889e-02</td>\n",
       "      <td>-2.889014e-01</td>\n",
       "    </tr>\n",
       "    <tr>\n",
       "      <th>Maria</th>\n",
       "      <td>5.500000e-01</td>\n",
       "      <td>-0.125</td>\n",
       "      <td>-3.000000e-01</td>\n",
       "      <td>-4.400000e-01</td>\n",
       "      <td>5.142857e-01</td>\n",
       "      <td>5.777778e-01</td>\n",
       "      <td>1.726632e-01</td>\n",
       "    </tr>\n",
       "    <tr>\n",
       "      <th>Anthony</th>\n",
       "      <td>-3.250000e-01</td>\n",
       "      <td>0.625</td>\n",
       "      <td>7.000000e-01</td>\n",
       "      <td>-2.400000e-01</td>\n",
       "      <td>5.142857e-01</td>\n",
       "      <td>-4.222222e-01</td>\n",
       "      <td>1.608211e-01</td>\n",
       "    </tr>\n",
       "    <tr>\n",
       "      <th>Kim</th>\n",
       "      <td>1.750000e-01</td>\n",
       "      <td>-0.250</td>\n",
       "      <td>3.333333e-02</td>\n",
       "      <td>1.600000e-01</td>\n",
       "      <td>-3.428571e-01</td>\n",
       "      <td>-3.111111e-01</td>\n",
       "      <td>-1.126095e-01</td>\n",
       "    </tr>\n",
       "    <tr>\n",
       "      <th>AVG (B)</th>\n",
       "      <td>-7.401487e-17</td>\n",
       "      <td>0.000</td>\n",
       "      <td>-7.362937e-17</td>\n",
       "      <td>6.568820e-17</td>\n",
       "      <td>6.740640e-17</td>\n",
       "      <td>-4.523131e-17</td>\n",
       "      <td>-9.963493e-18</td>\n",
       "    </tr>\n",
       "  </tbody>\n",
       "</table>\n",
       "</div>"
      ],
      "text/plain": [
       "         The Invisible Man  Yellow Rose     Bloodshot      Unhinged  \\\n",
       "Lesley        5.000000e-02        0.125 -1.333333e-01  5.600000e-01   \n",
       "Henry        -4.500000e-01       -0.375 -3.000000e-01 -4.000000e-02   \n",
       "Maria         5.500000e-01       -0.125 -3.000000e-01 -4.400000e-01   \n",
       "Anthony      -3.250000e-01        0.625  7.000000e-01 -2.400000e-01   \n",
       "Kim           1.750000e-01       -0.250  3.333333e-02  1.600000e-01   \n",
       "AVG (B)      -7.401487e-17        0.000 -7.362937e-17  6.568820e-17   \n",
       "\n",
       "                  Ava  The Devil All the Time       AVG (A)  \n",
       "Lesley  -4.857143e-01            2.444444e-01  6.802661e-02  \n",
       "Henry   -2.000000e-01           -8.888889e-02 -2.889014e-01  \n",
       "Maria    5.142857e-01            5.777778e-01  1.726632e-01  \n",
       "Anthony  5.142857e-01           -4.222222e-01  1.608211e-01  \n",
       "Kim     -3.428571e-01           -3.111111e-01 -1.126095e-01  \n",
       "AVG (B)  6.740640e-17           -4.523131e-17 -9.963493e-18  "
      ]
     },
     "execution_count": 21,
     "metadata": {},
     "output_type": "execute_result"
    }
   ],
   "source": [
    "df_normalized"
   ]
  },
  {
   "cell_type": "markdown",
   "metadata": {},
   "source": [
    "## Conclusion"
   ]
  },
  {
   "cell_type": "markdown",
   "metadata": {},
   "source": [
    "_Based on the data shown above, I've conlcuded that normalizing our movie ratings creates a difficult to understand rating pattern._\n",
    "_For humans, normalized ratings are really strange. They involve decimals and negative and positive numbers, which can be difficult to follow._\n",
    "_This is an obvious disadvantage, if you intend on using normalized ratings for human interpretation / understanding._\n",
    "_If a computer / program is expected to process this information, then using a normalized dataset would be useful._\n",
    "_There are obvious thresholds, such as the degree to which a rating is negative versus positive, which are useful to machines._\n",
    "_This is an advantage if your intention is to build an AI for movie recommendations / suggestions._\n",
    "_Actual ratings are great for humans, because we have intuitive scaling schemes in our heads._\n",
    "_For example, if someone provides a rate of 8, then we assume that this is on a scale of 1 to 10. On the_\n",
    "_the other hand, if someone provides a rate of 55, then we would assume this is on a scale of 1 to 100._\n",
    "_By normalizing, you can avoid this potential confusion. Your new scale would be based on a ratio involving_\n",
    "_the minimum and maximum values of the dataset (ratings)._"
   ]
  },
  {
   "cell_type": "code",
   "execution_count": null,
   "metadata": {},
   "outputs": [],
   "source": []
  },
  {
   "cell_type": "code",
   "execution_count": null,
   "metadata": {},
   "outputs": [],
   "source": []
  }
 ],
 "metadata": {
  "kernelspec": {
   "display_name": "Python 3",
   "language": "python",
   "name": "python3"
  },
  "language_info": {
   "codemirror_mode": {
    "name": "ipython",
    "version": 3
   },
   "file_extension": ".py",
   "mimetype": "text/x-python",
   "name": "python",
   "nbconvert_exporter": "python",
   "pygments_lexer": "ipython3",
   "version": "3.8.1"
  }
 },
 "nbformat": 4,
 "nbformat_minor": 4
}
